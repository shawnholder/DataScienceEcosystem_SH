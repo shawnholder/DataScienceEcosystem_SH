{
 "cells": [
  {
   "cell_type": "markdown",
   "id": "adf39d14-0b4c-47d4-8f6b-bebb81697641",
   "metadata": {},
   "source": [
    "# Data Science Tools and Ecosystem"
   ]
  },
  {
   "cell_type": "markdown",
   "id": "31ea8a6e-ba43-4cfe-b361-fd028bf7991e",
   "metadata": {},
   "source": [
    "In this notebook, we will summarize Data Science Tools and Ecosystem."
   ]
  },
  {
   "cell_type": "markdown",
   "id": "f58ad8d8-6c3b-4937-a2ac-e1b2efc1f9b0",
   "metadata": {},
   "source": [
    "**Objectives**\n",
    "* List Common Languages used by Data Scientists\n",
    "* List Commonly used libraries used by Data Scients\n",
    "* Evaluate Arithmetic Expressions\n",
    "* Use Markdown cells to create a Table\n",
    "* Use Markdown cells to create ordered and unordered lists\n",
    "  "
   ]
  },
  {
   "cell_type": "markdown",
   "id": "5648c1cd-61f3-463b-9bce-5d2f6d498f0f",
   "metadata": {},
   "source": [
    "Some of the popular languages that Data Scientists use are:\n",
    "1. Python\n",
    "2. R\n",
    "3. SQL\n",
    "4. Scala\n",
    "5. Julia"
   ]
  },
  {
   "cell_type": "markdown",
   "id": "2f225c49-af13-439f-9281-ba2ffd622735",
   "metadata": {},
   "source": [
    "Some of the commonly used libraries used by Data Scientists include:\n",
    "1. Pandas\n",
    "2. NumPy\n",
    "3. Matplotlib\n",
    "4. Scikit-learn\n",
    "5. Keras"
   ]
  },
  {
   "cell_type": "markdown",
   "id": "299a3ff1-2baf-4fb0-9db3-4e53878213c6",
   "metadata": {},
   "source": [
    "|Data Science Tools|\n",
    "|:-----------------|\n",
    "|MySQL|\n",
    "|Apache Airflow|\n",
    "|PixieDust|"
   ]
  },
  {
   "cell_type": "markdown",
   "id": "778de430-aac5-48e5-b417-feeea457cc59",
   "metadata": {},
   "source": [
    "### Below are a few examples of evaluating arithmetic expressions in Python."
   ]
  },
  {
   "cell_type": "code",
   "execution_count": 22,
   "id": "31396358-2a29-48e1-af44-22d93c1f4b01",
   "metadata": {},
   "outputs": [
    {
     "data": {
      "text/plain": [
       "17"
      ]
     },
     "execution_count": 22,
     "metadata": {},
     "output_type": "execute_result"
    }
   ],
   "source": [
    "#This a simple arithmetic expression to multiply and then add integers.\n",
    "(3*4)+5"
   ]
  },
  {
   "cell_type": "code",
   "execution_count": 33,
   "id": "1b64b49a-02e1-4182-b39c-6128139df852",
   "metadata": {},
   "outputs": [
    {
     "data": {
      "text/plain": [
       "3.3333333333333335"
      ]
     },
     "execution_count": 33,
     "metadata": {},
     "output_type": "execute_result"
    }
   ],
   "source": [
    "#This will convert 200 minutes to hours by diving by 60.\n",
    "200/60"
   ]
  },
  {
   "cell_type": "markdown",
   "id": "5cf86ab5-5dfd-4573-963c-1d6bffd5ddbd",
   "metadata": {},
   "source": [
    "## Author\n",
    "Shawn Holder"
   ]
  },
  {
   "cell_type": "code",
   "execution_count": null,
   "id": "faa0a5eb-1157-4a97-aa29-599a0606dd45",
   "metadata": {},
   "outputs": [],
   "source": []
  }
 ],
 "metadata": {
  "kernelspec": {
   "display_name": "Python 3 (ipykernel)",
   "language": "python",
   "name": "python3"
  },
  "language_info": {
   "codemirror_mode": {
    "name": "ipython",
    "version": 3
   },
   "file_extension": ".py",
   "mimetype": "text/x-python",
   "name": "python",
   "nbconvert_exporter": "python",
   "pygments_lexer": "ipython3",
   "version": "3.12.4"
  }
 },
 "nbformat": 4,
 "nbformat_minor": 5
}
